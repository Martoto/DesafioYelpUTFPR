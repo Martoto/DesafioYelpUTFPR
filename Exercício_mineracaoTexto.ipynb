{
 "cells": [
  {
   "cell_type": "markdown",
   "metadata": {},
   "source": [
    "## Lista 7 - Exercício de Mineração de texto"
   ]
  },
  {
   "cell_type": "markdown",
   "metadata": {},
   "source": [
    "#### Questão 1 \n",
    "\n",
    "Use o dataset \"tweets_trump.csv\", que contém todos os tweets do D. Trump e faça o que é pedido abaixo.\n",
    "\n",
    "a) Utilizando o texto dos tweets identifique 5 tópicos latentes com o LDA, com um preprocessamento básico -- remoção de urls, remoção de pontuação, stemming e conversão para minúsculo. \n",
    "\n",
    "b) Avalie os tópicos encontrados. Algum preprocessamento a mais poderia ser útil para a produção de um melhor resultado?\n"
   ]
  },
  {
   "cell_type": "markdown",
   "metadata": {},
   "source": [
    "## Questão 2\n",
    "\n",
    "Use o dataset \"tweets_trump.csv\" e responda:\n",
    "\n",
    "a) Qual o sentimento dos 5 tweets com maior número de retweets?\n",
    "\n",
    "b) Faça uma análise do sentimento geral de todos os tweets. Para isso, visualize a distribuição de polaridade para embasar a sua resposta."
   ]
  }
 ],
 "metadata": {
  "kernelspec": {
   "display_name": "dmclass",
   "language": "python",
   "name": "dmclass"
  },
  "language_info": {
   "codemirror_mode": {
    "name": "ipython",
    "version": 3
   },
   "file_extension": ".py",
   "mimetype": "text/x-python",
   "name": "python",
   "nbconvert_exporter": "python",
   "pygments_lexer": "ipython3",
   "version": "3.8.3"
  }
 },
 "nbformat": 4,
 "nbformat_minor": 4
}
